{
  "nbformat": 4,
  "nbformat_minor": 0,
  "metadata": {
    "colab": {
      "provenance": []
    },
    "kernelspec": {
      "name": "python3",
      "display_name": "Python 3"
    },
    "language_info": {
      "name": "python"
    }
  },
  "cells": [
    {
      "cell_type": "code",
      "source": [
        "import nltk\n",
        "import urllib.request\n",
        "\n",
        "# Download the 'stopwords' corpus from a URL\n",
        "stopwords_url = \"https://raw.githubusercontent.com/nltk/nltk_data/gh-pages/packages/corpora/stopwords.zip\"\n",
        "nltk.download('stopwords', download_dir='/content/', quiet=True)  # Download to Colab's content directory\n",
        "\n",
        "# Manually download and unzip the 'stopwords' corpus from the URL\n",
        "urllib.request.urlretrieve(stopwords_url, '/content/stopwords.zip')\n",
        "import zipfile\n",
        "with zipfile.ZipFile('/content/stopwords.zip', 'r') as zip_ref:\n",
        "    zip_ref.extractall('/content/')\n",
        "\n",
        "# Set the NLTK data path to the extracted directory\n",
        "nltk.data.path.append('/content/')\n"
      ],
      "metadata": {
        "id": "DfW2CBM5dJ61"
      },
      "execution_count": 7,
      "outputs": []
    },
    {
      "cell_type": "code",
      "source": [
        "import nltk\n",
        "nltk.download('wordnet', download_dir='/content/')"
      ],
      "metadata": {
        "colab": {
          "base_uri": "https://localhost:8080/"
        },
        "id": "RJDo7iNuecmg",
        "outputId": "70713eab-236a-4467-e473-cf1bf723e053"
      },
      "execution_count": 10,
      "outputs": [
        {
          "output_type": "stream",
          "name": "stderr",
          "text": [
            "[nltk_data] Downloading package wordnet to /content/...\n"
          ]
        },
        {
          "output_type": "execute_result",
          "data": {
            "text/plain": [
              "True"
            ]
          },
          "metadata": {},
          "execution_count": 10
        }
      ]
    },
    {
      "cell_type": "code",
      "source": [
        "import nltk\n",
        "\n",
        "# Add the directory containing the downloaded 'wordnet' corpus to NLTK data path\n",
        "nltk.data.path.append('/content/')"
      ],
      "metadata": {
        "id": "b5img7Puef-1"
      },
      "execution_count": 11,
      "outputs": []
    },
    {
      "cell_type": "code",
      "source": [
        "import nltk\n",
        "nltk.download('punkt')\n",
        "\n",
        "from nltk.tokenize import word_tokenize\n",
        "from nltk.stem import WordNetLemmatizer\n",
        "from nltk.corpus import stopwords\n",
        "import pandas as pd\n",
        "from sklearn.model_selection import train_test_split\n",
        "from sklearn.feature_extraction.text import TfidfVectorizer\n",
        "from sklearn.svm import SVC\n",
        "from sklearn.metrics import accuracy_score, confusion_matrix, classification_report\n",
        "\n",
        "# Reading the sample data from file\n",
        "sample_data_path = '/content/IMDB Dataset.csv'\n",
        "\n",
        "# Read the CSV file using different encodings\n",
        "encodings = ['utf-8', 'latin-1', 'ISO-8859-1']\n",
        "sample_data = None\n",
        "\n",
        "for encoding in encodings:\n",
        "    try:\n",
        "        sample_data = pd.read_csv(sample_data_path, encoding=encoding)\n",
        "        break\n",
        "    except UnicodeDecodeError:\n",
        "        continue\n",
        "\n",
        "if sample_data is None:\n",
        "    print(\"Error: Unable to read the CSV file with the provided encodings.\")\n",
        "else:\n",
        "    # Display the loaded data\n",
        "    print(\"Sample Data:\")\n",
        "    print(sample_data.head())\n",
        "\n",
        "    # Additional step to ensure 'punkt' tokenizer is available\n",
        "    try:\n",
        "        nltk.data.find('tokenizers/punkt')\n",
        "    except LookupError:\n",
        "        nltk.download('punkt')\n",
        "\n",
        "    # Your preprocess_text function\n",
        "    stop_words = set(stopwords.words('english'))\n",
        "    lemmatizer = WordNetLemmatizer()\n",
        "\n",
        "    def preprocess_text(text):\n",
        "        words = word_tokenize(text.lower())  # Use nltk.word_tokenize\n",
        "        filtered_words = [lemmatizer.lemmatize(word) for word in words if word.isalnum() and word not in stop_words]\n",
        "        return ' '.join(filtered_words)\n",
        "\n",
        "    # Apply preprocess_text function to your data\n",
        "    sample_data['processed_review'] = sample_data['review'].apply(preprocess_text)\n",
        "\n",
        "    # Model development\n",
        "    X = sample_data['processed_review']\n",
        "    y = sample_data['sentiment']\n",
        "\n",
        "    # Split the dataset into train and test sets\n",
        "    X_train, X_test, y_train, y_test = train_test_split(X, y, test_size=0.2, random_state=42)\n",
        "\n",
        "    # TF-IDF Vectorization\n",
        "    vectorizer = TfidfVectorizer()\n",
        "    X_train_tfidf = vectorizer.fit_transform(X_train)\n",
        "    X_test_tfidf = vectorizer.transform(X_test)\n",
        "\n",
        "    # Support Vector Machine (SVM) Classifier\n",
        "    svm_model = SVC(kernel='linear')\n",
        "    svm_model.fit(X_train_tfidf, y_train)\n",
        "\n",
        "    # Model evaluation\n",
        "    y_pred = svm_model.predict(X_test_tfidf)\n",
        "\n",
        "    # Calculate accuracy\n",
        "    accuracy = accuracy_score(y_test, y_pred)\n",
        "    print(f\"Accuracy: {accuracy:.2f}\")\n",
        "\n",
        "    # Confusion matrix\n",
        "    conf_matrix = confusion_matrix(y_test, y_pred)\n",
        "    print(\"Confusion Matrix:\")\n",
        "    print(conf_matrix)\n",
        "\n",
        "    # Classification report\n",
        "    class_report = classification_report(y_test, y_pred)\n",
        "    print(\"Classification Report:\")\n",
        "    print(class_report)\n"
      ],
      "metadata": {
        "colab": {
          "base_uri": "https://localhost:8080/"
        },
        "id": "eEfktR1-eAWC",
        "outputId": "787eb7b2-0943-4519-bfaa-df2134ffce4b"
      },
      "execution_count": null,
      "outputs": [
        {
          "output_type": "stream",
          "name": "stderr",
          "text": [
            "[nltk_data] Downloading package punkt to /root/nltk_data...\n",
            "[nltk_data]   Package punkt is already up-to-date!\n"
          ]
        },
        {
          "output_type": "stream",
          "name": "stdout",
          "text": [
            "Sample Data:\n",
            "                                              review sentiment\n",
            "0  One of the other reviewers has mentioned that ...  positive\n",
            "1  A wonderful little production. <br /><br />The...  positive\n",
            "2  I thought this was a wonderful way to spend ti...  positive\n",
            "3  Basically there's a family where a little boy ...  negative\n",
            "4  Petter Mattei's \"Love in the Time of Money\" is...  positive\n"
          ]
        }
      ]
    },
    {
      "cell_type": "code",
      "source": [
        "import nltk\n",
        "nltk.download('punkt')\n",
        "\n",
        "from nltk.tokenize import word_tokenize\n",
        "from nltk.stem import WordNetLemmatizer\n",
        "from nltk.corpus import stopwords\n",
        "import pandas as pd\n",
        "from sklearn.model_selection import train_test_split\n",
        "from sklearn.feature_extraction.text import TfidfVectorizer\n",
        "from sklearn.svm import SVC\n",
        "from sklearn.metrics import accuracy_score, confusion_matrix, classification_report\n",
        "\n",
        "# Reading the sample data from file\n",
        "sample_data_path = '/content/IMDB Dataset.csv'\n",
        "\n",
        "# Read the CSV file using different encodings\n",
        "encodings = ['utf-8', 'latin-1', 'ISO-8859-1']\n",
        "sample_data = None\n",
        "\n",
        "for encoding in encodings:\n",
        "    try:\n",
        "        sample_data = pd.read_csv(sample_data_path, encoding=encoding)\n",
        "        break\n",
        "    except UnicodeDecodeError:\n",
        "        continue\n",
        "\n",
        "if sample_data is None:\n",
        "    print(\"Error: Unable to read the CSV file with the provided encodings.\")\n",
        "else:\n",
        "    # Display the loaded data\n",
        "    print(\"Sample Data:\")\n",
        "    print(sample_data.head())\n",
        "\n",
        "    # Additional step to ensure 'punkt' tokenizer is available\n",
        "    try:\n",
        "        nltk.data.find('tokenizers/punkt')\n",
        "    except LookupError:\n",
        "        nltk.download('punkt')\n",
        "\n",
        "    # Your preprocess_text function\n",
        "    stop_words = set(stopwords.words('english'))\n",
        "    lemmatizer = WordNetLemmatizer()\n",
        "\n",
        "    def preprocess_text(text):\n",
        "        words = word_tokenize(text.lower())  # Use nltk.word_tokenize\n",
        "        filtered_words = [lemmatizer.lemmatize(word) for word in words if word.isalnum() and word not in stop_words]\n",
        "        return ' '.join(filtered_words)\n",
        "\n",
        "    # Apply preprocess_text function to your data\n",
        "    sample_data['processed_review'] = sample_data['review'].apply(preprocess_text)\n",
        "\n",
        "    # Model development\n",
        "    X = sample_data['processed_review']\n",
        "    y = sample_data['sentiment']\n",
        "\n",
        "    # Split the dataset into train and test sets\n",
        "    X_train, X_test, y_train, y_test = train_test_split(X, y, test_size=0.2, random_state=42)\n",
        "\n",
        "    # TF-IDF Vectorization\n",
        "    vectorizer = TfidfVectorizer()\n",
        "    X_train_tfidf = vectorizer.fit_transform(X_train)\n",
        "    X_test_tfidf = vectorizer.transform(X_test)\n",
        "\n",
        "    # Support Vector Machine (SVM) Classifier\n",
        "    svm_model = SVC(kernel='linear')\n",
        "    svm_model.fit(X_train_tfidf, y_train)\n",
        "\n",
        "    # Model evaluation\n",
        "    y_pred = svm_model.predict(X_test_tfidf)\n",
        "\n",
        "    # Calculate accuracy\n",
        "    accuracy = accuracy_score(y_test, y_pred)\n",
        "    print(f\"Accuracy: {accuracy:.2f}\")\n",
        "\n",
        "    # Confusion matrix\n",
        "    conf_matrix = confusion_matrix(y_test, y_pred)\n",
        "    print(\"Confusion Matrix:\")\n",
        "    print(conf_matrix)\n",
        "\n",
        "    # Classification report\n",
        "    class_report = classification_report(y_test, y_pred)\n",
        "    print(\"Classification Report:\")\n",
        "    print(class_report)"
      ],
      "metadata": {
        "id": "YkzWnFOmj94Y"
      },
      "execution_count": null,
      "outputs": []
    }
  ]
}